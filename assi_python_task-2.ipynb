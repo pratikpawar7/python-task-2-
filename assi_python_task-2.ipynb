{
 "cells": [
  {
   "cell_type": "code",
   "execution_count": 2,
   "id": "4ccc2d65-ee1e-4f71-a24b-27bbf42adbb8",
   "metadata": {},
   "outputs": [
    {
     "name": "stdout",
     "output_type": "stream",
     "text": [
      "Invalid Password\n",
      "Invalid Password\n",
      "Invalid Password\n",
      "Valid Password\n"
     ]
    }
   ],
   "source": [
    "'''\n",
    "Q1. You are writing code for a company. The requirement of the company is that you create a python\n",
    "function that will check whether the password entered by the user is correct or not. The function should\n",
    "take the password as input and return the string “Valid Password” if the entered password follows the\n",
    "below-given password guidelines else it should return “Invalid Password”.\n",
    "\n",
    "1. The Password should contain at least two uppercase letters and at least two lowercase letters.\n",
    "2. The Password should contain at least a number and three special characters.\n",
    "3. The length of the password should be 10 characters long.\n",
    "'''\n",
    "\n",
    "\n",
    "import re\n",
    "\n",
    "def check_password(password):\n",
    "    if len(password) != 10:\n",
    "        return \"Invalid Password\"\n",
    "\n",
    "    uppercase_count = sum(1 for char in password if char.isupper())\n",
    "    lowercase_count = sum(1 for char in password if char.islower())\n",
    "    number_count = sum(1 for char in password if char.isdigit())\n",
    "    special_count = sum(1 for char in password if re.match(r'[!@#$%^&*(),.?\":{}|<>]', char))\n",
    "\n",
    "    if uppercase_count >= 2 and lowercase_count >= 2 and number_count >= 1 and special_count >= 3:\n",
    "        return \"Valid Password\"\n",
    "    else:\n",
    "        return \"Invalid Password\"\n",
    "\n",
    "# Test the function\n",
    "password1 = \"Abcd123$%#\"\n",
    "print(check_password(password1))  # Valid Password\n",
    "\n",
    "password2 = \"ABCDabcd12\"\n",
    "print(check_password(password2))  # Invalid Password\n",
    "\n",
    "password3 = \"abc123$%def\"\n",
    "print(check_password(password3))  # Invalid Password\n",
    " \n",
    "password4= \"ABc123$&%d\"           # This is the valid password \n",
    "print(check_password(password4))\n",
    "\n",
    "\n",
    "\n"
   ]
  },
  {
   "cell_type": "code",
   "execution_count": null,
   "id": "e373584c-4b96-4de1-86a4-9a35cd3c2ada",
   "metadata": {},
   "outputs": [],
   "source": [
    "\n",
    "Q2. Solve the below-given questions using at least one of the following:\n",
    "    \n",
    "1. Lambda functioJ\n",
    "2. Filter functioJ\n",
    "3. Zap functioJ\n",
    "4. List ComprehensioI\n",
    "\n",
    "B Check if the string starts with a particular letterY\n",
    "\n",
    "B Check if the string is numericY\n",
    "\n",
    "B Sort a list of tuples having fruit names and their quantity. [(\"mango\",99),(\"orange\",80), (\"grapes\", 1000)\n",
    "B Find the squares of numbers from 1 to 10Y\n",
    "B Find the cube root of numbers from 1 to 10Y\n",
    "B Check if a given number is evenY\n",
    "B Filter odd numbers from the given list.\n",
    "                        [1,2,3,4,5,6,7,8,9,10-\n",
    "B Sort a list of integers into positive and negative integers lists.\n",
    "                        [1,2,3,4,5,6,-1,-2,-3,-4,-5,0]\n"
   ]
  },
  {
   "cell_type": "code",
   "execution_count": 1,
   "id": "ba92d935-0075-4eee-bf22-b758b9838b0a",
   "metadata": {},
   "outputs": [
    {
     "name": "stdout",
     "output_type": "stream",
     "text": [
      "['banana']\n"
     ]
    }
   ],
   "source": [
    "# Check if the string starts with a particular letterY\n",
    "\n",
    "string_list = [\"apple\", \"banana\", \"cherry\", \"date\"]\n",
    "letter = \"b\"\n",
    "\n",
    "result = list(filter(lambda x: x.startswith(letter), string_list))\n",
    "print(result)\n"
   ]
  },
  {
   "cell_type": "code",
   "execution_count": 2,
   "id": "e0c42ac8-6eb4-400d-9db1-fc4bc16299e0",
   "metadata": {},
   "outputs": [
    {
     "name": "stdout",
     "output_type": "stream",
     "text": [
      "['123', '456']\n"
     ]
    }
   ],
   "source": [
    "#  B Check if the string is numericY\n",
    "\n",
    "string_list = [\"apple\", \"123\", \"cherry\", \"456\"]\n",
    "\n",
    "result = list(filter(lambda x: x.isnumeric(), string_list))\n",
    "print(result)\n"
   ]
  },
  {
   "cell_type": "code",
   "execution_count": 3,
   "id": "74007a7a-aea3-49d7-8685-880c6e87732d",
   "metadata": {},
   "outputs": [
    {
     "name": "stdout",
     "output_type": "stream",
     "text": [
      "[('orange', 80), ('mango', 99), ('grapes', 1000)]\n"
     ]
    }
   ],
   "source": [
    "#  Sort a list of tuples having fruit names and their quantity:\n",
    "\n",
    "fruit_list = [(\"mango\", 99), (\"orange\", 80), (\"grapes\", 1000)]\n",
    "\n",
    "sorted_list = sorted(fruit_list, key=lambda x: x[1])\n",
    "print(sorted_list)\n"
   ]
  },
  {
   "cell_type": "code",
   "execution_count": 4,
   "id": "301642ac-a526-4a46-a074-06991d1b150a",
   "metadata": {},
   "outputs": [
    {
     "name": "stdout",
     "output_type": "stream",
     "text": [
      "[1, 4, 9, 16, 25, 36, 49, 64, 81, 100]\n"
     ]
    }
   ],
   "source": [
    "#  Find the squares of numbers from 1 to 10:\n",
    "\n",
    "squares = [x**2 for x in range(1, 11)]\n",
    "print(squares)"
   ]
  },
  {
   "cell_type": "code",
   "execution_count": 5,
   "id": "4b505134-672e-4052-9b07-7087294f95cb",
   "metadata": {},
   "outputs": [
    {
     "name": "stdout",
     "output_type": "stream",
     "text": [
      "[1.0, 1.2599210498948732, 1.4422495703074083, 1.5874010519681994, 1.7099759466766968, 1.8171205928321397, 1.912931182772389, 2.0, 2.080083823051904, 2.154434690031884]\n"
     ]
    }
   ],
   "source": [
    "#Find the cube root of numbers from 1 to 10:\n",
    "\n",
    "import math\n",
    "\n",
    "cube_roots = [math.pow(x, 1/3) for x in range(1, 11)]\n",
    "print(cube_roots)"
   ]
  },
  {
   "cell_type": "code",
   "execution_count": 6,
   "id": "d1b0b00c-c373-4bb8-9c79-1018a897e2ca",
   "metadata": {},
   "outputs": [
    {
     "name": "stdout",
     "output_type": "stream",
     "text": [
      "Odd\n"
     ]
    }
   ],
   "source": [
    "#  Check if a given number is even:\n",
    "\n",
    "number = 7\n",
    "\n",
    "result = \"Even\" if number % 2 == 0 else \"Odd\"\n",
    "print(result)"
   ]
  },
  {
   "cell_type": "code",
   "execution_count": 7,
   "id": "14212d6a-2ace-4a93-9c66-f8447b0f7c8c",
   "metadata": {},
   "outputs": [
    {
     "name": "stdout",
     "output_type": "stream",
     "text": [
      "[1, 3, 5, 7, 9]\n"
     ]
    }
   ],
   "source": [
    "#  Filter odd numbers from the given list:\n",
    "\n",
    "number_list = [1, 2, 3, 4, 5, 6, 7, 8, 9, 10]\n",
    "\n",
    "result = list(filter(lambda x: x % 2 != 0, number_list))\n",
    "print(result)\n"
   ]
  },
  {
   "cell_type": "code",
   "execution_count": 9,
   "id": "8a3b3cc7-69d7-4aba-9700-31fe5c90e0da",
   "metadata": {},
   "outputs": [
    {
     "name": "stdout",
     "output_type": "stream",
     "text": [
      "Positive integers: [1, 2, 3, 4, 5, 6]\n",
      "Negative integers: [-1, -2, -3, -4, -5]\n"
     ]
    }
   ],
   "source": [
    "# Sort a list of integers into positive and negative integers lists:\n",
    "\n",
    "number_list = [1, 2, 3, 4, 5, 6, -1, -2, -3, -4, -5, 0]\n",
    "\n",
    "positive_list = [x for x in number_list if x > 0]\n",
    "negative_list = [x for x in number_list if x < 0]\n",
    "\n",
    "print(\"Positive integers:\", positive_list)\n",
    "print(\"Negative integers:\", negative_list)"
   ]
  },
  {
   "cell_type": "code",
   "execution_count": null,
   "id": "894f20c2-5476-4116-8c9d-94a4f7db972a",
   "metadata": {},
   "outputs": [],
   "source": []
  }
 ],
 "metadata": {
  "kernelspec": {
   "display_name": "Python 3 (ipykernel)",
   "language": "python",
   "name": "python3"
  },
  "language_info": {
   "codemirror_mode": {
    "name": "ipython",
    "version": 3
   },
   "file_extension": ".py",
   "mimetype": "text/x-python",
   "name": "python",
   "nbconvert_exporter": "python",
   "pygments_lexer": "ipython3",
   "version": "3.10.8"
  }
 },
 "nbformat": 4,
 "nbformat_minor": 5
}
